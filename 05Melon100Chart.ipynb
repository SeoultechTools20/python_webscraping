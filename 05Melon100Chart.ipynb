{
 "cells": [
  {
   "cell_type": "markdown",
   "id": "2713e049-58b3-4d8c-9927-7d3e2292abf6",
   "metadata": {},
   "source": [
    "### Melon100 Chart \n",
    "* 100곡의 노래의 제목과 SongID 추출해서 list에 저장하기\n",
    "* 100곡 노래의 상세정보를 추출해서 list와 dict에 저장해서 json 파일로 저장하기\n",
    "* json 파일을 load하여 Pandas의 DataFrame에 저장하기\n",
    "* DataFrame 객체를 DB의 Table에 저장하기"
   ]
  },
  {
   "cell_type": "code",
   "execution_count": 1,
   "id": "5d8bf088-a22e-4f06-8535-577b8f4c07e3",
   "metadata": {},
   "outputs": [],
   "source": [
    "import requests\n",
    "from bs4 import BeautifulSoup\n",
    "import re"
   ]
  },
  {
   "cell_type": "code",
   "execution_count": 28,
   "id": "bd982545-6880-4c6a-8d69-a59b3d861ba3",
   "metadata": {},
   "outputs": [
    {
     "name": "stdout",
     "output_type": "stream",
     "text": [
      "200\n",
      "100\n",
      "100\n"
     ]
    }
   ],
   "source": [
    "url = 'https://www.melon.com/chart/index.htm'\n",
    "req_header_dict = {\n",
    "    # 요청헤더 : 브라우저정보\n",
    "    'user-agent': 'Mozilla/5.0 (Windows NT 10.0; Win64; x64) AppleWebKit/537.36 (KHTML, like Gecko) Chrome/97.0.4692.99 Safari/537.36'\n",
    "}\n",
    "res = requests.get(url, headers=req_header_dict)\n",
    "print(res.status_code)\n",
    "\n",
    "if res.ok:\n",
    "    html = res.text\n",
    "    soup = BeautifulSoup(html, 'html.parser')\n",
    "    #<div id=\"tb_list\"><tr><a>\n",
    "    print(len(soup.select(\"div#tb_list tr a[href*='playSong']\")))   \n",
    "    a_tags = soup.select(\"div#tb_list tr a[href*='playSong']\")\n",
    "    song_list = []\n",
    "    for idx,a_tag in enumerate(a_tags,1):\n",
    "        song_dict = {}\n",
    "        #<a href=\"\">노래제목</a>\n",
    "        song_title = a_tag.text\n",
    "        song_dict['song_title'] = song_title\n",
    "        \n",
    "        href_value = a_tag['href']\n",
    "        #Song ID를 찾기 위한 정규표현식\n",
    "        matched = re.search(r'(\\d+)\\);', href_value)\n",
    "        if matched:\n",
    "            song_id = matched.group(1)\n",
    "            song_dict['song_id'] = song_id\n",
    "            song_detail_url = f'https://www.melon.com/song/detail.htm?songId={song_id}'\n",
    "            song_dict['song_detail_url'] = song_detail_url\n",
    "            #print(song_dict)\n",
    "            song_list.append(song_dict)\n",
    "\n",
    "print(len(song_list))            "
   ]
  },
  {
   "cell_type": "code",
   "execution_count": 45,
   "id": "77e6be07-2fe2-4659-953c-a73555cd8933",
   "metadata": {},
   "outputs": [
    {
     "name": "stdout",
     "output_type": "stream",
     "text": [
      "200\n",
      "[<dd><a href=\"javascript:melon.link.goAlbumDetail('10735654');\">신사와 아가씨 OST Part.2</a></dd>, <dd>2021.10.11</dd>, <dd>발라드, 국내드라마</dd>, <dd>Flac 16/24bit</dd>]\n",
      "{'곡명': '사랑은 늘 도망가', '가수': '임영웅', '앨범': '신사와 아가씨 OST Part.2'}\n",
      "200\n",
      "[<dd><a href=\"javascript:melon.link.goAlbumDetail('10816959');\">취중고백</a></dd>, <dd>2021.12.19</dd>, <dd>발라드</dd>, <dd>Flac 16bit</dd>]\n",
      "{'곡명': '취중고백', '가수': '김민석 (멜로망스)', '앨범': '취중고백'}\n"
     ]
    }
   ],
   "source": [
    "import requests\n",
    "from bs4 import BeautifulSoup\n",
    "import re\n",
    "\n",
    "req_header_dict = {\n",
    "    # 요청헤더 : 브라우저정보\n",
    "    'user-agent': 'Mozilla/5.0 (Windows NT 10.0; Win64; x64) AppleWebKit/537.36 (KHTML, like Gecko) Chrome/97.0.4692.99 Safari/537.36'\n",
    "}\n",
    "\n",
    "song_detail_list = []\n",
    "for idx,song in enumerate(song_list[:1],1):\n",
    "    #노래1곡의 상세정보를 저장할 dict \n",
    "    song_detail_dict = {}\n",
    "    song_detail_url = song['song_detail_url']\n",
    "    \n",
    "    res = requests.get(song_detail_url, headers=req_header_dict)    \n",
    "    print(res.status_code)\n",
    "    if res.ok:\n",
    "        soup = BeautifulSoup(res.text, 'html.parser')\n",
    "        song_detail_dict['곡명'] = song['song_title']\n",
    "        # [<span>임영웅</span>, <span></span>]\n",
    "        singer_span = soup.select(\"a[href*='goArtistDetail'] span\")\n",
    "        if singer_span:\n",
    "            song_detail_dict['가수'] = singer_span[0].text\n",
    "        \n",
    "        print(soup.select(\"div.meta dd\"))\n",
    "        song_dd = soup.select(\"div.meta dd\")\n",
    "        if song_dd:\n",
    "            #print(song_dd[0].text)\n",
    "            song_detail_dict['앨범'] = song_dd[0].text\n",
    "            song_detail_dict['발매일'] = song_dd[1].text\n",
    "            song_detail_dict['장르'] = song_dd[2].text\n",
    "        print(song_detail_dict)\n",
    "        song_detail_list.append(song_detail_dict)"
   ]
  }
 ],
 "metadata": {
  "kernelspec": {
   "display_name": "Python 3 (ipykernel)",
   "language": "python",
   "name": "python3"
  },
  "language_info": {
   "codemirror_mode": {
    "name": "ipython",
    "version": 3
   },
   "file_extension": ".py",
   "mimetype": "text/x-python",
   "name": "python",
   "nbconvert_exporter": "python",
   "pygments_lexer": "ipython3",
   "version": "3.9.7"
  }
 },
 "nbformat": 4,
 "nbformat_minor": 5
}
