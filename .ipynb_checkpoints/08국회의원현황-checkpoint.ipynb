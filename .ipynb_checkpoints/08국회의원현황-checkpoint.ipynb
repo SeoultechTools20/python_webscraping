{
 "cells": [
  {
   "cell_type": "markdown",
   "id": "c421956b-6110-4fef-8cfb-6241aa3df595",
   "metadata": {},
   "source": [
    "### 국회의원 현황정보 수집/분석/시각화/저장\n",
    "* 이름과 ID 추출\n",
    "* 상세페이지 정보 추출 (json으로 저장)\n",
    "* 상세정보들을 DataFrame으로 변환\n",
    "* 시각화(막대그래프,히스토그램, 파이챠트, 히트맵)\n",
    "* 테이블로 저장"
   ]
  },
  {
   "cell_type": "code",
   "execution_count": 14,
   "id": "b9c5dd15-33db-4744-a8e8-4d232ad7d097",
   "metadata": {},
   "outputs": [
    {
     "name": "stdout",
     "output_type": "stream",
     "text": [
      "200\n",
      "295\n",
      "295\n",
      "['9771230', '9771142', '9771174']\n"
     ]
    }
   ],
   "source": [
    "import requests\n",
    "from bs4 import BeautifulSoup\n",
    "import re\n",
    "\n",
    "url = 'https://www.assembly.go.kr/assm/memact/congressman/memCond/memCondListAjax.do'\n",
    "req_param_dict = {\n",
    "    'currentPage':1,\n",
    "    'rowPerPage':500\n",
    "}\n",
    "res = requests.get(url, params=req_param_dict)\n",
    "print(res.status_code)\n",
    "if res.ok:\n",
    "    soup = BeautifulSoup(res.text, 'html.parser')\n",
    "    print(len(soup.select('div.memberna_list dl dt a')))\n",
    "    atag_list = soup.select('div.memberna_list dl dt a')\n",
    "    \n",
    "    member_id_list = []\n",
    "    for atag in atag_list:\n",
    "        href = atag['href']\n",
    "        matched = re.search(r'(\\d+)', href)        \n",
    "        if matched:\n",
    "            member_id = matched.group(0)\n",
    "        member_id_list.append(member_id)\n",
    "    print(len(member_id_list))        \n",
    "    print(member_id_list[:3])"
   ]
  },
  {
   "cell_type": "code",
   "execution_count": 39,
   "id": "6d44cb78-f758-4d6c-8a36-f61335d2a2a3",
   "metadata": {},
   "outputs": [
    {
     "name": "stdout",
     "output_type": "stream",
     "text": [
      "https://www.assembly.go.kr/assm/memPop/memPopup.do?dept_cd=9771230\n",
      "1960-06-04\n",
      "{'정당': '국민의힘', '선거구': '경남창원시성산구', '소속위원회': '보건복지위원회', '당선횟수': '재선(19대,21대)', '사무실 전화': '02-784-1751', '사무실 호실': '의원회관937호', '홈페이지': 'http://blog.naver.com/ggotop', '이메일': 'ggotop@naver.com', '보좌관': '김홍광,한영애', '비서관': '지상훈,최광림', '비서': '김영록,안효상,이유진,홍지형,김지훈', '취미, 특기': '', '의원실 안내': '', '이름': '강기윤', '이미지': 'https://www.assembly.go.kr/photo/9771230.jpg'}\n",
      "https://www.assembly.go.kr/assm/memPop/memPopup.do?dept_cd=9771142\n",
      "1959-11-02\n",
      "{'정당': '국민의힘', '선거구': '대구동구을', '소속위원회': '국방위원회,정치개혁특별위원회', '당선횟수': '초선(21대)', '사무실 전화': '02-784-5275', '사무실 호실': '의원회관341호', '홈페이지': '', '이메일': 'kds21341@naver.com', '보좌관': '박홍규,정운태', '비서관': '유진영,윤미라', '비서': '박순권,김광연,김현정,송민욱', '취미, 특기': '', '의원실 안내': '', '이름': '강대식', '이미지': 'https://www.assembly.go.kr/photo/9771142.jpg'}\n"
     ]
    }
   ],
   "source": [
    "import requests\n",
    "from bs4 import BeautifulSoup\n",
    "import re\n",
    "from urllib.parse import urljoin\n",
    "\n",
    "print('===> 스크래핑 시작')\n",
    "member_detail_list = []\n",
    "for idx,mem_id in enumerate(member_id_list,1):\n",
    "    detail_url = f'https://www.assembly.go.kr/assm/memPop/memPopup.do?dept_cd={mem_id}'\n",
    "    print(idx, detail_url)\n",
    "    res = requests.get(detail_url)\n",
    "    if res.ok:\n",
    "        soup = BeautifulSoup(res.text, 'html.parser')\n",
    "        \n",
    "        #1명의 정보를 저장할 dict 선언\n",
    "        member_detail_dict = {}\n",
    "        \n",
    "        dt_list = [dt_tag.text for dt_tag in soup.select('dl.pro_detail dt')]\n",
    "        \n",
    "        dd_list = []        \n",
    "        for dd_tag in soup.select('dl.pro_detail dd'):\n",
    "            pattern = re.compile(f'[\\n\\r\\t]')\n",
    "            dd_text = pattern.sub('',dd_tag.text.strip()).replace(\" \",\"\")\n",
    "            dd_list.append(dd_text)\n",
    "        \n",
    "        member_detail_dict = dict(zip(dt_list, dd_list))\n",
    "        \n",
    "        for div_tag in soup.select('div.profile'):\n",
    "            #print(div_tag)\n",
    "            member_detail_dict['이름']=div_tag.find('h4').text\n",
    "            \n",
    "            img_tag = div_tag.select('img')\n",
    "            if img_tag:\n",
    "                member_detail_dict['이미지'] = urljoin(detail_url, img_tag[0]['src'])\n",
    "            \n",
    "            member_detail_dict['생년월일'] = div_tag.select_one('li:nth-of-type(4)').text\n",
    "        print(member_detail_dict)\n",
    "        \n",
    "        #1명의 정보가 저장된 dict를 list에 추가하기\n",
    "        member_detail_list.append(member_detail_dict)\n",
    "\n",
    "print(len(member_detail_list))        \n",
    "print('===> 스크래핑 끝')        "
   ]
  }
 ],
 "metadata": {
  "kernelspec": {
   "display_name": "Python 3 (ipykernel)",
   "language": "python",
   "name": "python3"
  },
  "language_info": {
   "codemirror_mode": {
    "name": "ipython",
    "version": 3
   },
   "file_extension": ".py",
   "mimetype": "text/x-python",
   "name": "python",
   "nbconvert_exporter": "python",
   "pygments_lexer": "ipython3",
   "version": "3.9.7"
  }
 },
 "nbformat": 4,
 "nbformat_minor": 5
}
