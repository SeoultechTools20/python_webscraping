{
 "cells": [
  {
   "cell_type": "markdown",
   "id": "242d3de1-3291-4b2e-8ab4-36ae54c6a670",
   "metadata": {},
   "source": [
    "### Urllib을 사용한 Papago 번역 API 예제"
   ]
  },
  {
   "cell_type": "code",
   "execution_count": 1,
   "id": "8521a7fe-f963-41dc-8b2e-9fc2a400ed8a",
   "metadata": {},
   "outputs": [
    {
     "name": "stdout",
     "output_type": "stream",
     "text": [
      "{\"message\":{\"@type\":\"response\",\"@service\":\"naverservice.nmt.proxy\",\"@version\":\"1.0.0\",\"result\":{\"srcLangType\":\"en\",\"tarLangType\":\"ko\",\"translatedText\":\"어제는 내 모든 고민이 너무 멀리 있는 것 같았어.\",\"engineType\":\"N2MT\",\"pivot\":null}}}\n"
     ]
    }
   ],
   "source": [
    "import os\n",
    "import sys\n",
    "import urllib.request\n",
    "\n",
    "client_id = \"ok3n30Sk3T8ZPlW5c0HV\" # 개발자센터에서 발급받은 Client ID 값\n",
    "client_secret = \"IFlQ3TiiyP\" # 개발자센터에서 발급받은 Client Secret 값\n",
    "encText = urllib.parse.quote(\"Yesterday all my troubles seemed so far away.\")\n",
    "data = \"source=en&target=ko&text=\" + encText\n",
    "url = \"https://openapi.naver.com/v1/papago/n2mt\"\n",
    "\n",
    "request = urllib.request.Request(url)\n",
    "request.add_header(\"X-Naver-Client-Id\",client_id)\n",
    "request.add_header(\"X-Naver-Client-Secret\",client_secret)\n",
    "response = urllib.request.urlopen(request, data=data.encode(\"utf-8\"))\n",
    "rescode = response.getcode()\n",
    "if(rescode==200):\n",
    "    response_body = response.read()\n",
    "    print(response_body.decode('utf-8'))\n",
    "else:\n",
    "    print(\"Error Code:\" + rescode)"
   ]
  },
  {
   "cell_type": "markdown",
   "id": "113642d8-c93c-4ae8-bab5-4315def0658c",
   "metadata": {},
   "source": [
    "### Requests를 사용한 Papago 번역 API 예제"
   ]
  },
  {
   "cell_type": "code",
   "execution_count": 12,
   "id": "9ff6340f-12b6-4a54-a6ce-9f544367feae",
   "metadata": {},
   "outputs": [
    {
     "name": "stdout",
     "output_type": "stream",
     "text": [
      "200 True\n",
      "<class 'dict'> {'message': {'@type': 'response', '@service': 'naverservice.nmt.proxy', '@version': '1.0.0', 'result': {'srcLangType': 'en', 'tarLangType': 'ja', 'translatedText': '昨日私のすべての問題は遠く離れているようだった.', 'engineType': 'N2MT', 'pivot': None}}}\n",
      "昨日私のすべての問題は遠く離れているようだった.\n"
     ]
    }
   ],
   "source": [
    "import requests\n",
    "\n",
    "client_id = \"ok3n30Sk3T8ZPlW5c0HV\" # 개발자센터에서 발급받은 Client ID 값\n",
    "client_secret = \"IFlQ3TiiyP\" # 개발자센터에서 발급받은 Client Secret 값\n",
    "url = \"https://openapi.naver.com/v1/papago/n2mt\"\n",
    "source_txt = \"Yesterday all my troubles seemed so far away.\"\n",
    "\n",
    "#요청 헤더\n",
    "req_header = {\"X-Naver-Client-Id\":client_id, \"X-Naver-Client-Secret\":client_secret}\n",
    "#요청 파라미터\n",
    "req_param = {\"source\":\"en\", \"target\":\"ja\", \"text\":source_txt}\n",
    "\n",
    "res = requests.post(url, headers=req_header,data=req_param)\n",
    "print(res.status_code, res.ok)\n",
    "if res.ok:\n",
    "    #print(type(res.text), res.text)\n",
    "    print(type(res.json()), res.json())\n",
    "    trans_txt = res.json()['message']['result']['translatedText']\n",
    "    print(trans_txt)\n",
    "else:\n",
    "    print('Error Code ', res.status_code)"
   ]
  },
  {
   "cell_type": "code",
   "execution_count": 37,
   "id": "a2007462-3c22-4a30-a490-26299d574e56",
   "metadata": {},
   "outputs": [],
   "source": [
    "# 번역을 하는 함수 정의하기\n",
    "# source_txt, source, target 를 입력으로 받기\n",
    "def translate(source_txt, source_lang, target_lang):\n",
    "    print(source_txt, source_lang, target_lang)\n",
    "    \n",
    "    import requests\n",
    "    client_id = \"ok3n30Sk3T8ZPlW5c0HV\" # 개발자센터에서 발급받은 Client ID 값\n",
    "    client_secret = \"IFlQ3TiiyP\" # 개발자센터에서 발급받은 Client Secret 값\n",
    "    urls = \"https://openapi.naver.com/v1/papago/n2mt\"\n",
    "    #요청 헤더\n",
    "    req_header = {\"X-Naver-Client-Id\":client_id, \"X-Naver-Client-Secret\":client_secret}\n",
    "    #요청 파라미터\n",
    "    req_param = {\"source\":source_lang, \"target\":target_lang, \"text\":source_txt}\n",
    "    print(req_param)\n",
    "    \n",
    "    #POST방식으로 요청을 보내기\n",
    "    res = requests.post(urls, headers=req_header,data=req_param)\n",
    "    print(res.status_code, res.ok)\n",
    "    #if res.status_code == 200:\n",
    "    if res.ok:\n",
    "        print('aaa')\n",
    "        print(type(res.json()))\n",
    "        # print(res.json())\n",
    "        trans_txt = res.json()['message']['result']['translatedText']\n",
    "        print(trans_txt)"
   ]
  },
  {
   "cell_type": "code",
   "execution_count": 40,
   "id": "7d5b4645-b0c0-4532-a4d8-7de77021ce5f",
   "metadata": {},
   "outputs": [
    {
     "name": "stdout",
     "output_type": "stream",
     "text": [
      "안녕하세요. ko en\n",
      "{'source': 'ko', 'target': 'en', 'text': '안녕하세요.'}\n",
      "200 True\n",
      "aaa\n",
      "<class 'dict'>\n",
      "Hello\n"
     ]
    }
   ],
   "source": [
    "translate('안녕하세요.','ko','en')"
   ]
  }
 ],
 "metadata": {
  "kernelspec": {
   "display_name": "Python 3 (ipykernel)",
   "language": "python",
   "name": "python3"
  },
  "language_info": {
   "codemirror_mode": {
    "name": "ipython",
    "version": 3
   },
   "file_extension": ".py",
   "mimetype": "text/x-python",
   "name": "python",
   "nbconvert_exporter": "python",
   "pygments_lexer": "ipython3",
   "version": "3.9.7"
  }
 },
 "nbformat": 4,
 "nbformat_minor": 5
}
