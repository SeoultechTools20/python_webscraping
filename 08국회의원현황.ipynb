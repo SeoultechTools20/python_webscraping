{
 "cells": [
  {
   "cell_type": "markdown",
   "id": "c421956b-6110-4fef-8cfb-6241aa3df595",
   "metadata": {},
   "source": [
    "### 국회의원 현황정보 수집/분석/시각화/저장\n",
    "* 이름과 ID 추출\n",
    "* 상세페이지 정보 추출 (json으로 저장)\n",
    "* 상세정보들을 DataFrame으로 변환\n",
    "* 시각화(막대그래프,히스토그램, 파이챠트, 히트맵)\n",
    "* 테이블로 저장"
   ]
  },
  {
   "cell_type": "code",
   "execution_count": 14,
   "id": "b9c5dd15-33db-4744-a8e8-4d232ad7d097",
   "metadata": {},
   "outputs": [
    {
     "name": "stdout",
     "output_type": "stream",
     "text": [
      "200\n",
      "295\n",
      "295\n",
      "['9771230', '9771142', '9771174']\n"
     ]
    }
   ],
   "source": [
    "import requests\n",
    "from bs4 import BeautifulSoup\n",
    "import re\n",
    "\n",
    "url = 'https://www.assembly.go.kr/assm/memact/congressman/memCond/memCondListAjax.do'\n",
    "req_param_dict = {\n",
    "    'currentPage':1,\n",
    "    'rowPerPage':500\n",
    "}\n",
    "res = requests.get(url, params=req_param_dict)\n",
    "print(res.status_code)\n",
    "if res.ok:\n",
    "    soup = BeautifulSoup(res.text, 'html.parser')\n",
    "    print(len(soup.select('div.memberna_list dl dt a')))\n",
    "    atag_list = soup.select('div.memberna_list dl dt a')\n",
    "    \n",
    "    member_id_list = []\n",
    "    for atag in atag_list:\n",
    "        href = atag['href']\n",
    "        matched = re.search(r'(\\d+)', href)        \n",
    "        if matched:\n",
    "            member_id = matched.group(0)\n",
    "        member_id_list.append(member_id)\n",
    "    print(len(member_id_list))        \n",
    "    print(member_id_list[:3])"
   ]
  },
  {
   "cell_type": "code",
   "execution_count": null,
   "id": "6d44cb78-f758-4d6c-8a36-f61335d2a2a3",
   "metadata": {},
   "outputs": [],
   "source": [
    "import requests\n",
    "from bs4 import BeautifulSoup\n",
    "import re\n",
    "from urllib.parse import urljoin\n",
    "\n",
    "member_detail_list = []\n",
    "for idx,mem_id in enumerate(member_id_list[:2],1):\n",
    "    detail_url = f'https://www.assembly.go.kr/assm/memPop/memPopup.do?dept_cd={mem_id}'"
   ]
  }
 ],
 "metadata": {
  "kernelspec": {
   "display_name": "Python 3 (ipykernel)",
   "language": "python",
   "name": "python3"
  },
  "language_info": {
   "codemirror_mode": {
    "name": "ipython",
    "version": 3
   },
   "file_extension": ".py",
   "mimetype": "text/x-python",
   "name": "python",
   "nbconvert_exporter": "python",
   "pygments_lexer": "ipython3",
   "version": "3.9.7"
  }
 },
 "nbformat": 4,
 "nbformat_minor": 5
}
